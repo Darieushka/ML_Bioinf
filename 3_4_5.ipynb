{
 "cells": [
  {
   "cell_type": "code",
   "execution_count": 2,
   "metadata": {},
   "outputs": [],
   "source": [
    "import pandas as pd\n",
    "import operator\n",
    "import time\n",
    "import random\n",
    "random.seed(0)\n",
    "import numpy as np\n",
    "from scipy.spatial import KDTree\n",
    "\n",
    "\n",
    "def kN(v1, Y, K):\n",
    "    X_neib = T.query(v1, k=K+1)[1][1:]\n",
    "    Y_neib = []\n",
    "    for n in X_neib:\n",
    "        Y_neib.append(Y.iloc[n])\n",
    "    return Y_neib\n",
    "\n",
    "def kN_r(n, X, Y, R):\n",
    "    X_neib = T.query_ball_point(X.iloc[n], r=R)\n",
    "    Y_neib = []\n",
    "    for n1 in X_neib:\n",
    "        if n1!=n:\n",
    "            Y_neib.append(Y.iloc[n1])\n",
    "    return Y_neib\n",
    "\n",
    "    \n",
    "def LOO(data, neib_list_11):\n",
    "    r = 0\n",
    "    n_row = len(data.index)\n",
    "    Y = data['label']\n",
    "    max_class = max(set(list(Y)), key=list(Y).count)\n",
    "    for n in range(0,n_row):\n",
    "        if neib_list_11[n]==[]:\n",
    "            u = max_class\n",
    "        else:\n",
    "            u = max(set(neib_list_11[n]), key = neib_list_11[n].count)\n",
    "        if neib_list_11[n].count(u) == len(neib_list_11)/2:\n",
    "            u = max_class\n",
    "        if u != Y.iloc[n]:\n",
    "            r += 1\n",
    "    return r/n_row\n",
    "\n",
    "def main(data, r):\n",
    "    X = data.drop('label', axis=1)\n",
    "    Y = data['label']\n",
    "    neib_list_11 = []\n",
    "    for n in range(0,len(data.index)):\n",
    "        neib_list_11.append(kN_r(n, X, Y, r))\n",
    "    print('r =', r, ', LOO =', LOO(data, neib_list_11))\n",
    "        "
   ]
  },
  {
   "cell_type": "code",
   "execution_count": null,
   "metadata": {},
   "outputs": [
    {
     "name": "stdout",
     "output_type": "stream",
     "text": [
      "cancer\n",
      "r = 100 , LOO = 0.11247803163444639\n",
      "r = 200 , LOO = 0.10193321616871705\n",
      "r = 300 , LOO = 0.1054481546572935\n",
      "r = 400 , LOO = 0.11423550087873462\n",
      "r = 500 , LOO = 0.1265377855887522\n",
      "time = 20 sec\n",
      "\n",
      "spam\n",
      "r = 300 , LOO = 0.32492936318191695\n",
      "r = 400 , LOO = 0.3318843729623995\n",
      "r = 500 , LOO = 0.34123016735492284\n",
      "r = 600 , LOO = 0.3427515757444034\n",
      "r = 700 , LOO = 0.34427298413388396\n",
      "r = 800 , LOO = 0.349923929580526\n",
      "time = 3062 sec\n",
      "\n",
      "normalized cancer\n",
      "r = 0.01 , LOO = 0.23550087873462214\n",
      "r = 0.02 , LOO = 0.10720562390158173\n",
      "r = 0.03 , LOO = 0.08611599297012303\n",
      "r = 0.04 , LOO = 0.07908611599297012\n",
      "r = 0.05 , LOO = 0.08787346221441125\n",
      "r = 0.06 , LOO = 0.10193321616871705\n",
      "r = 0.07 , LOO = 0.11599297012302284\n",
      "r = 0.08 , LOO = 0.1265377855887522\n",
      "r = 0.09 , LOO = 0.1546572934973638\n",
      "time = 72 sec\n",
      "\n",
      "normalized spam\n",
      "r = 0.1 , LOO = 0.3108019995653119\n",
      "r = 0.2 , LOO = 0.3455770484677244\n",
      "r = 0.3 , LOO = 0.3736144316452945\n",
      "r = 0.4 , LOO = 0.3875244512062595\n",
      "r = 0.5 , LOO = 0.3892632036513801\n",
      "r = 0.6 , LOO = 0.39513149315366225\n",
      "r = 0.7 , LOO = 0.3960008693762226\n"
     ]
    }
   ],
   "source": [
    "from sklearn import preprocessing\n",
    "#n_sam = 200\n",
    "\n",
    "\n",
    "t1 = time.time()\n",
    "df = pd.read_csv('cancer.csv')\n",
    "#df = df.sample(n=n_sam).reset_index(drop=True)\n",
    "T = KDTree(df.drop('label', axis=1))\n",
    "print('cancer')\n",
    "\n",
    "for r in range(1,6):\n",
    "    main(df, r*100)\n",
    "print('time =', round((time.time()-t1)), 'sec\\n')\n",
    "\n",
    "t1 = time.time()\n",
    "df = pd.read_csv('spam.csv')\n",
    "#df = df.sample(n=n_sam).reset_index(drop=True)\n",
    "T = KDTree(df.drop('label', axis=1))\n",
    "print('spam')\n",
    "for r in range(3,9):\n",
    "    main(df, r*100)\n",
    "print('time =', round((time.time()-t1)), 'sec\\n')\n",
    "\n",
    "\n",
    "t1 = time.time()\n",
    "df = pd.read_csv('cancer.csv')\n",
    "#df = df.sample(n=n_sam).reset_index(drop=True)\n",
    "X = df.drop('label', axis=1)\n",
    "X = pd.DataFrame(preprocessing.normalize(X))\n",
    "Y = df['label']\n",
    "df = pd.concat([X, Y], axis=1)\n",
    "T = KDTree(df.drop('label', axis=1))\n",
    "print('normalized cancer')\n",
    "for r in range(1,10):\n",
    "    main(df, r/100)\n",
    "print('time =', round((time.time()-t1)), 'sec\\n')\n",
    "\n",
    "t1 = time.time()\n",
    "df = pd.read_csv('spam.csv')\n",
    "#df = df.sample(n=n_sam).reset_index(drop=True)\n",
    "X = df.drop('label', axis=1)\n",
    "X = pd.DataFrame(preprocessing.normalize(X))\n",
    "Y = df['label']\n",
    "df = pd.concat([X, Y], axis=1)\n",
    "T = KDTree(df.drop('label', axis=1))\n",
    "print('normalized spam')\n",
    "for r in range(1,10):\n",
    "    main(df, r/10)\n",
    "print('time =', round((time.time()-t1)), 'sec\\n')"
   ]
  },
  {
   "cell_type": "code",
   "execution_count": 3,
   "metadata": {},
   "outputs": [
    {
     "name": "stdout",
     "output_type": "stream",
     "text": [
      "spam\n",
      "r = 50 , LOO = 0.27776570310802\n",
      "r = 100 , LOO = 0.30145620517278854\n",
      "r = 150 , LOO = 0.3058030862855901\n",
      "r = 200 , LOO = 0.31949576179091504\n",
      "time = 1129 sec\n",
      "\n"
     ]
    }
   ],
   "source": [
    "\n",
    "\n",
    "t1 = time.time()\n",
    "df = pd.read_csv('spam.csv')\n",
    "#df = df.sample(n=n_sam).reset_index(drop=True)\n",
    "T = KDTree(df.drop('label', axis=1))\n",
    "print('spam')\n",
    "for r in range(1,5):\n",
    "    main(df, r*50)\n",
    "print('time =', round((time.time()-t1)), 'sec\\n')"
   ]
  },
  {
   "cell_type": "code",
   "execution_count": 4,
   "metadata": {},
   "outputs": [
    {
     "name": "stdout",
     "output_type": "stream",
     "text": [
      "spam\n",
      "r = 10 , LOO = 0.2714627254944577\n",
      "r = 20 , LOO = 0.2697239730493371\n",
      "r = 30 , LOO = 0.28232992827646164\n",
      "r = 40 , LOO = 0.28189524016518147\n",
      "time = 932 sec\n",
      "\n"
     ]
    }
   ],
   "source": [
    "t1 = time.time()\n",
    "df = pd.read_csv('spam.csv')\n",
    "#df = df.sample(n=n_sam).reset_index(drop=True)\n",
    "T = KDTree(df.drop('label', axis=1))\n",
    "print('spam')\n",
    "for r in range(1,5):\n",
    "    main(df, r*10)\n",
    "print('time =', round((time.time()-t1)), 'sec\\n')"
   ]
  },
  {
   "cell_type": "code",
   "execution_count": 9,
   "metadata": {},
   "outputs": [
    {
     "name": "stdout",
     "output_type": "stream",
     "text": [
      "normalized spam\n",
      "r = 0.0033333333333333335 , LOO = 0.23429689198000433\n",
      "r = 0.006666666666666667 , LOO = 0.21299717452727668\n",
      "r = 0.01 , LOO = 0.2066941969137144\n",
      "r = 0.013333333333333334 , LOO = 0.20799826124755488\n",
      "r = 0.016666666666666666 , LOO = 0.20539013257987393\n",
      "r = 0.02 , LOO = 0.20843294935883502\n",
      "r = 0.023333333333333334 , LOO = 0.2108237339708759\n",
      "r = 0.02666666666666667 , LOO = 0.21234514236035645\n",
      "r = 0.03 , LOO = 0.21299717452727668\n",
      "time = 1358 sec\n",
      "\n"
     ]
    }
   ],
   "source": [
    "from sklearn import preprocessing\n",
    "\n",
    "t1 = time.time()\n",
    "df = pd.read_csv('spam.csv')\n",
    "#df = df.sample(n=n_sam).reset_index(drop=True)\n",
    "X = df.drop('label', axis=1)\n",
    "X = pd.DataFrame(preprocessing.normalize(X))\n",
    "Y = df['label']\n",
    "df = pd.concat([X, Y], axis=1)\n",
    "T = KDTree(df.drop('label', axis=1))\n",
    "print('normalized spam')\n",
    "for r in range(1,10):\n",
    "    main(df, r/300)\n",
    "print('time =', round((time.time()-t1)), 'sec\\n')"
   ]
  }
 ],
 "metadata": {
  "kernelspec": {
   "display_name": "Python 3",
   "language": "python",
   "name": "python3"
  },
  "language_info": {
   "codemirror_mode": {
    "name": "ipython",
    "version": 3
   },
   "file_extension": ".py",
   "mimetype": "text/x-python",
   "name": "python",
   "nbconvert_exporter": "python",
   "pygments_lexer": "ipython3",
   "version": "3.6.5"
  }
 },
 "nbformat": 4,
 "nbformat_minor": 2
}
