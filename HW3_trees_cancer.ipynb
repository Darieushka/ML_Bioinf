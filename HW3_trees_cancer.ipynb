{
 "cells": [
  {
   "cell_type": "code",
   "execution_count": 1,
   "metadata": {},
   "outputs": [],
   "source": [
    "import numpy as np\n",
    "import pandas as pd\n",
    "from sklearn import metrics\n",
    "import matplotlib.pyplot as plt\n",
    "from operator import itemgetter\n",
    "import math\n",
    "from sklearn.model_selection import train_test_split\n",
    "\n",
    "    \n",
    "def I(df, I_type):\n",
    "    if I_type == 'misscl':\n",
    "        if df.empty:\n",
    "            return 0\n",
    "        p = (df.label == 1).sum()/df.shape[0]\n",
    "        return min(p,1-p)\n",
    "    if I_type == 'entropy':\n",
    "        if df.empty:\n",
    "            return 0\n",
    "        p = (df.label == 1).sum()/df.shape[0]\n",
    "        if p in [0,1]:\n",
    "            return 0\n",
    "        else:\n",
    "            return -p*math.log2(p)-(1-p)*math.log2(1-p)\n",
    "    if I_type == 'gini':\n",
    "        if df.empty:\n",
    "            return 0\n",
    "        p = (df.label == 1).sum()/df.shape[0]\n",
    "        return 2*p*(1-p)\n",
    "    \n",
    "#node = [name, df, rule]\n",
    "\n",
    "def l_less_r(df1, df2):\n",
    "    p1 = (df1.label == 1).sum()/df1.shape[0]\n",
    "    p2 = (df2.label == 1).sum()/df2.shape[0]\n",
    "    if p1<p2:\n",
    "        return 1\n",
    "    else:\n",
    "        return 0\n",
    "\n",
    "def separate_train(node, I_type):\n",
    "    name = node[0]\n",
    "    x = node[1]\n",
    "    IG_arr = []\n",
    "    for col in list(x.drop('label', axis=1).columns.values):\n",
    "        for a in list(set(x[col])):\n",
    "            IG = x.shape[0]/X_train_nrow*I(x, I_type)-x[x[col]<a].shape[0]/X_train_nrow*I(x[x[col]<a], I_type)-x[x[col]>=a].shape[0]/X_train_nrow*I(x[x[col]>=a], I_type)\n",
    "            IG_arr.append([col, a, IG])\n",
    "    col, a = max(IG_arr, key=itemgetter(2))[0], max(IG_arr, key=itemgetter(2))[1]\n",
    "    node[2]=[col, a]\n",
    "    node_l = [name+[0], x[x[col]<a], None]\n",
    "    node_r = [name+[1], x[x[col]>=a], None]\n",
    "    return node, node_l, node_r, [name, col, a, l_less_r(node_l[1], node_r[1])]\n",
    "\n",
    "    \n",
    "def make_tree(tree, I_type):\n",
    "    leaf = []\n",
    "    branch = []\n",
    "    rules = []\n",
    "    while len(tree)>0:\n",
    "        node = tree[0]\n",
    "        df = node[1]\n",
    "        if (df.label == 1).sum() == df.shape[0]:\n",
    "            leaf.append(node)\n",
    "            tree.pop(0)\n",
    "        elif (df.label == 0).sum() == df.shape[0]:\n",
    "            leaf.append(node)\n",
    "            tree.pop(0)\n",
    "        elif len(node[0])==K:\n",
    "            leaf.append(node)\n",
    "            tree.pop(0)\n",
    "        else:\n",
    "            node, node_l, node_r, rule = separate_train(node, I_type)\n",
    "            #print(rule)\n",
    "            rules.append(rule)\n",
    "            branch.append(node)\n",
    "            tree.pop(0)\n",
    "            tree.append(node_l)\n",
    "            tree.append(node_r)\n",
    "    return tree, leaf, branch, rules\n",
    "        "
   ]
  },
  {
   "cell_type": "code",
   "execution_count": 6,
   "metadata": {},
   "outputs": [],
   "source": [
    "#node = [name, df]\n",
    "def separate_val(node, rules):\n",
    "    name = node[0]\n",
    "    x = node[1]\n",
    "    for r in rules:\n",
    "        if name == r[0]:\n",
    "            col = r[1]\n",
    "            a = r[2]\n",
    "            if r[3]==1:\n",
    "                node_l = [name+[0], x[x[col]<a], 0]\n",
    "                node_r = [name+[1], x[x[col]>=a], 1]\n",
    "            else:\n",
    "                node_l = [name+[0], x[x[col]<a], 1]\n",
    "                node_r = [name+[1], x[x[col]>=a], 0]\n",
    "            return node_l, node_r\n",
    "            \n",
    "    \n",
    "def make_tree_val(tree, rules, K_2):\n",
    "    leaf = []\n",
    "    while len(tree)>0:\n",
    "        node = tree[0]\n",
    "        if len(node[0]) >= K_2:\n",
    "            leaf.append(node)\n",
    "            tree.pop(0)\n",
    "        elif node[0] not in list(zip(*rules))[0]:\n",
    "            leaf.append(node)\n",
    "            tree.pop(0)\n",
    "        else:\n",
    "            node_l, node_r = separate_val(node, rules)\n",
    "            tree.append(node_l)\n",
    "            tree.append(node_r)\n",
    "            tree.pop(0)\n",
    "    return leaf\n",
    "\n",
    "def acc(leaf_2):\n",
    "    true_cnt = 0\n",
    "    all_cnt = 0\n",
    "    for n in range(0,len(leaf_2)):\n",
    "        m = leaf_2[n][1]\n",
    "        all_cnt += m.shape[0]\n",
    "        u = m[m.label==leaf_2[n][2]].shape[0]\n",
    "        true_cnt += u\n",
    "    return true_cnt/all_cnt\n",
    "\n",
    "def gr(leaf_2):\n",
    "    roc_data = []\n",
    "    for l in leaf_2:\n",
    "        roc_data.append([l[1].shape[0], l[1].loc[:,\"label\"].mean()])\n",
    "    #print(roc_data)\n",
    "    R=[]\n",
    "    for xx in sorted(list(set(list(zip(*roc_data))[1]))):\n",
    "        if np.isnan(xx)==0:\n",
    "            TN=0\n",
    "            FN=0\n",
    "            TP=0\n",
    "            FP=0\n",
    "            for s in roc_data:\n",
    "                if s[1]<xx:\n",
    "                    TN+=s[0]*(1-s[1])\n",
    "                    FN+=s[0]*s[1]\n",
    "                if s[1]>=xx:\n",
    "                    TP+=s[0]*s[1]\n",
    "                    FP+=s[0]*(1-s[1])\n",
    "            #print(xx, TP, FN)\n",
    "            TPR = TP/(TP+FN)\n",
    "            FPR = FP/(FP+TN)\n",
    "            R.append([FPR, TPR])\n",
    "    R = sorted(R, key=itemgetter(0,1))\n",
    "    print('roc auc =', np.trapz(list(zip(*R))[1], x = list(zip(*R))[0]))\n",
    "    plt.plot(list(zip(*R))[0], list(zip(*R))[1])\n",
    "    "
   ]
  },
  {
   "cell_type": "code",
   "execution_count": 3,
   "metadata": {},
   "outputs": [
    {
     "name": "stdout",
     "output_type": "stream",
     "text": [
      "depth = 1 acc = 0.8859649122807017\n",
      "depth = 2 acc = 0.868421052631579\n",
      "depth = 3 acc = 0.9122807017543859\n",
      "depth = 4 acc = 0.9035087719298246\n",
      "depth = 5 acc = 0.9122807017543859\n",
      "depth = 6 acc = 0.9035087719298246\n",
      "depth = 7 acc = 0.9210526315789473\n",
      "depth = 8 acc = 0.9035087719298246\n",
      "depth = 9 acc = 0.9035087719298246\n",
      "depth = 10 acc = 0.9035087719298246\n"
     ]
    }
   ],
   "source": [
    "df = pd.read_csv('/Users/dashabalashova/1_1_5_ML_Bioinf/data/cancer.csv')\n",
    "df['label'] = df['label'].map({'M':1, 'B':0})\n",
    "train, validate = train_test_split(df, test_size=0.2, stratify=df.label)\n",
    "X_train_nrow = train.shape[0]\n",
    "\n",
    "\n",
    "K = 10     \n",
    "tree, leaf, branch, rules_entropy = make_tree([[[], train, None]], 'entropy')        \n",
    "\n",
    "for K_2 in range(1,11):\n",
    "    leaf_2 = make_tree_val([[[], validate, 0.5]], rules_entropy, K_2)\n",
    "    print('depth =',K_2,'acc =', acc(leaf_2))"
   ]
  },
  {
   "cell_type": "code",
   "execution_count": 7,
   "metadata": {},
   "outputs": [
    {
     "name": "stdout",
     "output_type": "stream",
     "text": [
      "entropy\n",
      "roc auc = 0.9599867724867723\n"
     ]
    },
    {
     "data": {
      "image/png": "[encoded data removed]",
      "text/plain": [
       "<Figure size 432x288 with 1 Axes>"
      ]
     },
     "metadata": {
      "needs_background": "light"
     },
     "output_type": "display_data"
    }
   ],
   "source": [
    "print('entropy')\n",
    "leaf_2 = make_tree_val([[[], validate, 0.5]], rules_entropy, 7)\n",
    "gr(leaf_2)"
   ]
  },
  {
   "cell_type": "code",
   "execution_count": 8,
   "metadata": {},
   "outputs": [
    {
     "name": "stderr",
     "output_type": "stream",
     "text": [
      "/Users/dashabalashova/miniconda3/lib/python3.6/site-packages/ipykernel_launcher.py:33: RuntimeWarning: invalid value encountered in long_scalars\n"
     ]
    },
    {
     "name": "stdout",
     "output_type": "stream",
     "text": [
      "depth = 1 acc = 0.9035087719298246\n",
      "depth = 2 acc = 0.9210526315789473\n",
      "depth = 3 acc = 0.9122807017543859\n",
      "depth = 4 acc = 0.17543859649122806\n",
      "depth = 5 acc = 0.6666666666666666\n",
      "depth = 6 acc = 0.4824561403508772\n",
      "depth = 7 acc = 0.3684210526315789\n",
      "depth = 8 acc = 0.631578947368421\n",
      "depth = 9 acc = 0.5263157894736842\n",
      "depth = 10 acc = 0.5175438596491229\n"
     ]
    }
   ],
   "source": [
    "K = 10     \n",
    "tree, leaf, branch, rules_misscl = make_tree([[[], train, None]], 'misscl')        \n",
    "\n",
    "for K_2 in range(1,11):\n",
    "    leaf_2 = make_tree_val([[[], validate, 0.5]], rules_misscl, K_2)\n",
    "    print('depth =',K_2,'acc =', acc(leaf_2))"
   ]
  },
  {
   "cell_type": "code",
   "execution_count": 9,
   "metadata": {},
   "outputs": [
    {
     "name": "stdout",
     "output_type": "stream",
     "text": [
      "misscl\n",
      "roc auc = 0.9085648148148149\n"
     ]
    },
    {
     "data": {
      "image/png": "[encoded data removed]",
      "text/plain": [
       "<Figure size 432x288 with 1 Axes>"
      ]
     },
     "metadata": {
      "needs_background": "light"
     },
     "output_type": "display_data"
    }
   ],
   "source": [
    "print('misscl')\n",
    "leaf_2 = make_tree_val([[[], validate, 0.5]], rules_misscl, 2)\n",
    "gr(leaf_2)"
   ]
  },
  {
   "cell_type": "code",
   "execution_count": 11,
   "metadata": {},
   "outputs": [
    {
     "name": "stdout",
     "output_type": "stream",
     "text": [
      "depth = 1 acc = 0.9035087719298246\n",
      "depth = 2 acc = 0.9122807017543859\n",
      "depth = 3 acc = 0.8859649122807017\n",
      "depth = 4 acc = 0.9210526315789473\n",
      "depth = 5 acc = 0.9035087719298246\n",
      "depth = 6 acc = 0.9122807017543859\n",
      "depth = 7 acc = 0.9122807017543859\n",
      "depth = 8 acc = 0.9122807017543859\n",
      "depth = 9 acc = 0.9122807017543859\n",
      "depth = 10 acc = 0.9122807017543859\n"
     ]
    }
   ],
   "source": [
    "K = 10     \n",
    "#tree, leaf, branch, rules_gini = make_tree([[[], train, None]], 'gini')        \n",
    "\n",
    "for K_2 in range(1,11):\n",
    "    leaf_2 = make_tree_val([[[], validate, 0.5]], rules_gini, K_2)\n",
    "    print('depth =',K_2,'acc =', acc(leaf_2))"
   ]
  },
  {
   "cell_type": "code",
   "execution_count": 12,
   "metadata": {},
   "outputs": [
    {
     "name": "stdout",
     "output_type": "stream",
     "text": [
      "gini\n",
      "roc auc = 0.9545304232804233\n"
     ]
    },
    {
     "data": {
      "image/png": "[encoded data removed]",
      "text/plain": [
       "<Figure size 432x288 with 1 Axes>"
      ]
     },
     "metadata": {
      "needs_background": "light"
     },
     "output_type": "display_data"
    }
   ],
   "source": [
    "print('gini')\n",
    "leaf_2 = make_tree_val([[[], validate, 0.5]], rules_gini, 4)\n",
    "gr(leaf_2)"
   ]
  }
 ],
 "metadata": {
  "kernelspec": {
   "display_name": "Python 3",
   "language": "python",
   "name": "python3"
  },
  "language_info": {
   "codemirror_mode": {
    "name": "ipython",
    "version": 3
   },
   "file_extension": ".py",
   "mimetype": "text/x-python",
   "name": "python",
   "nbconvert_exporter": "python",
   "pygments_lexer": "ipython3",
   "version": "3.6.5"
  }
 },
 "nbformat": 4,
 "nbformat_minor": 2
}
