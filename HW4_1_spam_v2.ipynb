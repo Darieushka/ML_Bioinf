{
 "cells": [
  {
   "cell_type": "code",
   "execution_count": 3,
   "metadata": {},
   "outputs": [
    {
     "name": "stdout",
     "output_type": "stream",
     "text": [
      "ROC AUC = 0.9373253552139182\n"
     ]
    },
    {
     "data": {
      "image/png": "[encoded data removed]",
      "text/plain": [
       "<Figure size 432x288 with 1 Axes>"
      ]
     },
     "metadata": {
      "needs_background": "light"
     },
     "output_type": "display_data"
    }
   ],
   "source": [
    "import importlib\n",
    "import my_tree\n",
    "importlib.reload(my_tree)\n",
    "import pandas as pd\n",
    "from sklearn.model_selection import train_test_split\n",
    "import time\n",
    "from sklearn.model_selection import StratifiedKFold\n",
    "import matplotlib.pyplot as plt\n",
    "from operator import itemgetter\n",
    "\n",
    "\n",
    "df = pd.read_csv('/Users/dashabalashova/1_1_5_ML_Bioinf/data/spam.csv')\n",
    "#df=df.sample(n=200)\n",
    "train_df, validate_df = train_test_split(df, test_size=0.2, stratify=df.label)\n",
    "\n",
    "\n",
    "prediction_array = validate_df[['label']]\n",
    "N = 20\n",
    "for i in range(0, N):\n",
    "    tree = my_tree.make_tree(df = train_df, I_type = 'gini', depth = 3, var_proportion = 0.1)\n",
    "    df_prediction = my_tree.tree_impl(df = validate_df, tree = tree, depth = 3)\n",
    "    prediction_array = pd.concat([prediction_array, df_prediction], axis=1)\n",
    "\n",
    "\n",
    "auc, R = my_tree.auc(prediction_array, N)\n",
    "print('ROC AUC =', auc)\n",
    "plt.figure()\n",
    "plt.plot(list(zip(*R))[0], list(zip(*R))[1])\n",
    "plt.show()"
   ]
  }
 ],
 "metadata": {
  "kernelspec": {
   "display_name": "Python 3",
   "language": "python",
   "name": "python3"
  },
  "language_info": {
   "codemirror_mode": {
    "name": "ipython",
    "version": 3
   },
   "file_extension": ".py",
   "mimetype": "text/x-python",
   "name": "python",
   "nbconvert_exporter": "python",
   "pygments_lexer": "ipython3",
   "version": "3.6.5"
  }
 },
 "nbformat": 4,
 "nbformat_minor": 2
}
