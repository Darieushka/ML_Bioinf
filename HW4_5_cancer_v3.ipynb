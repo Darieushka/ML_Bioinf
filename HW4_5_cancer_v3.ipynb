{
 "cells": [
  {
   "cell_type": "code",
   "execution_count": 120,
   "metadata": {},
   "outputs": [],
   "source": [
    "import importlib\n",
    "import my_tree\n",
    "importlib.reload(my_tree)\n",
    "import pandas as pd\n",
    "from sklearn.model_selection import train_test_split\n",
    "import time\n",
    "from sklearn.model_selection import StratifiedKFold\n",
    "\n",
    "\n",
    "df = pd.read_csv('/Users/dashabalashova/1_1_5_ML_Bioinf/data/cancer.csv')\n",
    "df['label'] = df['label'].map({'M':1, 'B':0})\n",
    "kf = StratifiedKFold(n_splits=5, shuffle=True)\n",
    "\n"
   ]
  },
  {
   "cell_type": "code",
   "execution_count": 121,
   "metadata": {},
   "outputs": [],
   "source": [
    "import sys\n",
    "import time\n",
    "\n",
    "N=100\n",
    "\n",
    "t=time.time()\n",
    "\n",
    "\n",
    "\n",
    "\n",
    "log_file = open(\"HW4_5_cancer_v3.log\",\"w\")\n",
    "log_file.close()    \n",
    "t = time.time()    \n",
    "\n",
    "\n",
    "kf_n = 0\n",
    "auc_arr = []\n",
    "df_auc = pd.DataFrame(columns=['kfold', 'depth', 'number of trees', 'ROC AUC', 'arr'])\n",
    "for train_index, test_index in kf.split(df, df[['label']]):\n",
    "    train_df = df.iloc[train_index]\n",
    "    \n",
    "    validate_df = df.iloc[test_index]\n",
    "    prediction_array = [[]]*10\n",
    "    for d in [2, 3, 5, 7, 10]:\n",
    "        prediction_array[d-1] = validate_df[['label']]\n",
    "    for i in range(0, N):\n",
    "        old_stdout = sys.stdout\n",
    "        log_file = open(\"HW4_5_cancer_v3.log\",\"a+\")\n",
    "        sys.stdout = log_file\n",
    "        print((time.time()-t)/60)\n",
    "        t = time.time()\n",
    "        sys.stdout = old_stdout\n",
    "\n",
    "\n",
    "        tree = my_tree.make_tree(df = train_df, I_type = 'gini', depth = 10, var_proportion = 0.1)\n",
    "        \n",
    "       \n",
    "        for d in [2, 3, 5, 7, 10]:\n",
    "            df_prediction = my_tree.tree_impl(df = validate_df, tree = tree, depth = d)\n",
    "            prediction_array[d-1] = pd.concat([prediction_array[d-1], df_prediction], axis=1)\n",
    "\n",
    "    for d in [2, 3, 5, 7, 10]:\n",
    "        df_d = prediction_array[d-1]\n",
    "        for n in [5, 10, 20, 30, 50, 100]:\n",
    "            #print('kfold =', kf_n, 'depth =', d, 'number of trees =', n, end=' ')\n",
    "            auc, R = my_tree.auc(df_d, n)\n",
    "            auc_arr.append([kf_n, d, n, auc, R])\n",
    "            \n",
    "            df_auc = df_auc.append({'kfold':kf_n, 'depth':d, 'number of trees':n, 'ROC AUC':auc, 'arr':R}, ignore_index=True)\n",
    "               \n",
    "    kf_n+=1\n"
   ]
  },
  {
   "cell_type": "code",
   "execution_count": 122,
   "metadata": {},
   "outputs": [
    {
     "name": "stdout",
     "output_type": "stream",
     "text": [
      "    kfold depth number of trees   ROC AUC\n",
      "28      0    10              50  0.982235\n",
      "58      1    10              50  0.990149\n",
      "88      2    10              50  0.996647\n",
      "118     3    10              50  0.992287\n",
      "148     4    10              50  0.989101\n"
     ]
    },
    {
     "data": {
      "image/png": "[encoded data removed]",
      "text/plain": [
       "<Figure size 432x288 with 1 Axes>"
      ]
     },
     "metadata": {
      "needs_background": "light"
     },
     "output_type": "display_data"
    }
   ],
   "source": [
    "import matplotlib.pyplot as plt\n",
    "from operator import itemgetter\n",
    "\n",
    "df_auc\n",
    "\n",
    "dd, nn = df_auc.groupby(['depth','number of trees']).mean().idxmax(axis=0, skipna=True)[0]\n",
    "\n",
    "#print('depth =', dd, 'number of trees =', nn)\n",
    "\n",
    "df_auc_3 = df_auc[(df_auc['depth']==dd) & (df_auc['number of trees']==nn)]\n",
    "\n",
    "max_auc = df_auc_3.loc[df_auc_3['ROC AUC'].idxmax()]\n",
    "print(df_auc_3.drop(columns='arr'))\n",
    "plt.figure()\n",
    "plt.plot(list(zip(*max_auc[4]))[0], list(zip(*max_auc[4]))[1])\n",
    "plt.show()"
   ]
  }
 ],
 "metadata": {
  "kernelspec": {
   "display_name": "Python 3",
   "language": "python",
   "name": "python3"
  },
  "language_info": {
   "codemirror_mode": {
    "name": "ipython",
    "version": 3
   },
   "file_extension": ".py",
   "mimetype": "text/x-python",
   "name": "python",
   "nbconvert_exporter": "python",
   "pygments_lexer": "ipython3",
   "version": "3.6.5"
  }
 },
 "nbformat": 4,
 "nbformat_minor": 2
}
