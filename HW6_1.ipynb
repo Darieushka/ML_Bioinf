{
 "cells": [
  {
   "cell_type": "code",
   "execution_count": 20,
   "metadata": {},
   "outputs": [],
   "source": [
    "import pandas as pd\n",
    "import numpy as np\n",
    "import matplotlib.pyplot as plt\n",
    "from sklearn.model_selection import train_test_split\n",
    "import matplotlib.pyplot as plt\n",
    "\n",
    "def data(csv_in):\n",
    "    df = pd.read_csv(csv_in)\n",
    "    df['label'] = df['label'].map({1:1, 0:-1, 'M':1, 'B':-1})\n",
    "    train, validate = train_test_split(df, test_size=0.2, stratify=df.label)\n",
    "\n",
    "    X = train.drop(columns=['label']).values\n",
    "    means, stds = X.mean(axis=0), X.std(axis=0)\n",
    "    X = (X - means) / stds\n",
    "    X = np.hstack((X, np.ones((X.shape[0], 1))))\n",
    "    y = train[['label']].values\n",
    "\n",
    "    X_val = validate.drop(columns=['label']).values\n",
    "    means, stds = X_val.mean(axis=0), X_val.std(axis=0)\n",
    "    X_val = (X_val - means) / stds\n",
    "    X_val = np.hstack((X_val, np.ones((X_val.shape[0], 1))))\n",
    "    y_val = validate[['label']].values\n",
    "    return X, X_val, y, y_val\n"
   ]
  },
  {
   "cell_type": "code",
   "execution_count": 21,
   "metadata": {},
   "outputs": [
    {
     "name": "stdout",
     "output_type": "stream",
     "text": [
      "83\n",
      "step = 62\n",
      "w = [[ 0.03830149 -0.14899469  0.03211724  0.42231262  0.27430277  0.18179118\n",
      "   1.0334148   0.22221825  0.15196483 -0.03269411 -0.05162612 -0.20558703\n",
      "  -0.06098906 -0.02546099  0.14440108  0.25372499  0.44980837  0.20301818\n",
      "   0.20559114  0.37222177  0.29461622  0.41547623  0.6467296   0.15438265\n",
      "  -0.924253   -0.59172051 -0.90793185  0.25025722 -0.31928804 -0.25452654\n",
      "  -0.09316033 -0.09469705 -0.41053018 -0.13361764 -0.35388179  0.0518487\n",
      "  -0.19925828 -0.1388022  -0.30752341 -0.13217725 -0.39247885 -0.57635432\n",
      "  -0.25462875 -0.42436144 -0.688824   -0.65743392 -0.15505592 -0.38139797\n",
      "  -0.29903751 -0.17560697 -0.03559321  0.81484422  0.96541351  0.31063676\n",
      "   0.30043987  0.71836114  0.43500479 -0.88504771]]\n"
     ]
    },
    {
     "data": {
      "image/png": "[encoded data removed]",
      "text/plain": [
       "<Figure size 432x288 with 1 Axes>"
      ]
     },
     "metadata": {
      "needs_background": "light"
     },
     "output_type": "display_data"
    }
   ],
   "source": [
    "\n",
    "def sigmoid(z):\n",
    "    return 1 / (1 + np.exp(-z))\n",
    "\n",
    "\n",
    "def step(w, nu):\n",
    "    nn = [np.random.randint(X.shape[0]) for _ in range(100)]\n",
    "    gr = 0\n",
    "    for n in nn:\n",
    "        z = np.dot(X[n],w.T)*y[n]\n",
    "        \n",
    "        gr += X[n]*y[n]*sigmoid(-z)\n",
    "    \n",
    "    w += nu*gr/100\n",
    "    return w\n",
    "\n",
    "def main(X, X_val, y, y_val):\n",
    "    w = np.zeros((1, X.shape[1]))    \n",
    "    e = [sum(abs(np.sign(np.dot(X_val,w.T))-y_val))[0]/2]\n",
    "    nu = 1\n",
    "    s = 0\n",
    "    m = 0\n",
    "    while m<500:\n",
    "        m += 1\n",
    "        if s<20:\n",
    "            w = step(w, nu)\n",
    "            #nu = nu*0.99\n",
    "            e1 = sum(abs(np.sign(np.dot(X_val,w.T))-y_val))[0]/2\n",
    "            if e1>e[-1-s]:\n",
    "                s+=1\n",
    "            else:\n",
    "                s=0\n",
    "                w_best = w\n",
    "                m_best = m \n",
    "            e.append(sum(abs(np.sign(np.dot(X_val,w.T))-y_val))[0]/2)\n",
    "        else:\n",
    "            print(m)\n",
    "            m=500\n",
    "\n",
    "\n",
    "    print('step =', m_best)\n",
    "    print('w =', w_best)    \n",
    "    plt.plot(e)\n",
    "\n",
    "X, X_val, y, y_val = data('/Users/dashabalashova/1_1_5_ML_Bioinf/data/spam.csv')\n",
    "main(X, X_val, y, y_val)\n"
   ]
  },
  {
   "cell_type": "code",
   "execution_count": 22,
   "metadata": {},
   "outputs": [
    {
     "name": "stdout",
     "output_type": "stream",
     "text": [
      "62\n",
      "step = 41\n",
      "w = [[ 0.62939047  0.60914845  0.62115711  0.63643381  0.21545137  0.07579064\n",
      "   0.58766224  0.74763367  0.12253427 -0.46398021  0.58113744 -0.13877472\n",
      "   0.45895202  0.53806938  0.16278646 -0.32221829 -0.17145398  0.06335461\n",
      "  -0.0474618  -0.39059671  0.86135009  0.80861541  0.82439058  0.81323635\n",
      "   0.7068194   0.25126369  0.54792672  0.80698882  0.64146854  0.12002722\n",
      "  -0.49697151]]\n"
     ]
    },
    {
     "data": {
      "image/png": "[encoded data removed]",
      "text/plain": [
       "<Figure size 432x288 with 1 Axes>"
      ]
     },
     "metadata": {
      "needs_background": "light"
     },
     "output_type": "display_data"
    }
   ],
   "source": [
    "X, X_val, y, y_val = data('/Users/dashabalashova/1_1_5_ML_Bioinf/data/cancer.csv')\n",
    "main(X, X_val, y, y_val)"
   ]
  }
 ],
 "metadata": {
  "kernelspec": {
   "display_name": "Python 3",
   "language": "python",
   "name": "python3"
  },
  "language_info": {
   "codemirror_mode": {
    "name": "ipython",
    "version": 3
   },
   "file_extension": ".py",
   "mimetype": "text/x-python",
   "name": "python",
   "nbconvert_exporter": "python",
   "pygments_lexer": "ipython3",
   "version": "3.6.5"
  }
 },
 "nbformat": 4,
 "nbformat_minor": 2
}
