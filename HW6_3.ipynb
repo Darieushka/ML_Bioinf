{
 "cells": [
  {
   "cell_type": "code",
   "execution_count": 14,
   "metadata": {},
   "outputs": [],
   "source": [
    "import tensorflow as tf\n",
    "from tensorflow import keras\n",
    "import numpy as np\n",
    "import matplotlib.pyplot as plt\n"
   ]
  },
  {
   "cell_type": "code",
   "execution_count": 15,
   "metadata": {},
   "outputs": [],
   "source": [
    "import pandas as pd\n",
    "import numpy as np\n",
    "df = pd.read_csv('/Users/dashabalashova/1_1_5_ML_Bioinf/data/mnist.csv')\n",
    "\n",
    "df.head()\n",
    "\n",
    "X = []\n",
    "y = np.array(df.iloc[:,0])\n",
    "for n in range(0,df.shape[0]):\n",
    "    X.append(np.array(df.iloc[n,1:]).reshape(28,28))\n",
    "X = np.array(X)    \n"
   ]
  },
  {
   "cell_type": "code",
   "execution_count": 24,
   "metadata": {},
   "outputs": [
    {
     "data": {
      "text/plain": [
       "(8000, 28, 28)"
      ]
     },
     "execution_count": 24,
     "metadata": {},
     "output_type": "execute_result"
    }
   ],
   "source": [
    "from sklearn.model_selection import train_test_split\n",
    "    \n",
    "X_train, X_test, y_train, y_test = train_test_split(X, y, test_size=0.2, random_state=1)\n",
    "\n",
    "X_train.shape"
   ]
  },
  {
   "cell_type": "code",
   "execution_count": 17,
   "metadata": {},
   "outputs": [],
   "source": [
    "def show1():\n",
    "    plt.figure()\n",
    "    plt.imshow(X_train[6])\n",
    "    plt.colorbar()\n",
    "    plt.grid(False)\n",
    "    plt.show()\n",
    "\n",
    "def show25():\n",
    "    plt.figure(figsize=(10,10))\n",
    "    for i in range(25):\n",
    "        plt.subplot(5,5,i+1)\n",
    "        plt.xticks([])\n",
    "        plt.yticks([])\n",
    "        plt.grid(False)\n",
    "        plt.imshow(X_train[i], cmap=plt.cm.binary)\n",
    "        plt.xlabel(y_train[i])"
   ]
  },
  {
   "cell_type": "code",
   "execution_count": 33,
   "metadata": {},
   "outputs": [],
   "source": [
    "from keras.models import Sequential\n",
    "from keras.layers import Dense, Conv2D, MaxPooling2D, Dropout, Flatten\n",
    "  \n",
    "def createModel(act):\n",
    "    \n",
    "    model = Sequential()\n",
    "    \n",
    "    model.add(Conv2D(8, (3, 3), activation='sigmoid', input_shape=(28, 28, 1)))\n",
    "    model.add(Conv2D(8, (3, 3), activation='tanh'))\n",
    "    model.add(Conv2D(8, (3, 3), activation='relu'))\n",
    "    \n",
    "    model.add(Flatten())\n",
    "    \n",
    "    model.add(Dense(64, activation=act))\n",
    "    model.add(Dense(64, activation=act))\n",
    "    \n",
    "    model.add(Dense(10, activation='softmax'))\n",
    "    model.compile(loss='categorical_crossentropy', optimizer='adam', metrics=['accuracy'])\n",
    "  \n",
    "    return model\n",
    "\n",
    "\n",
    "\n"
   ]
  },
  {
   "cell_type": "code",
   "execution_count": 34,
   "metadata": {},
   "outputs": [
    {
     "name": "stdout",
     "output_type": "stream",
     "text": [
      "Epoch 1/1\n",
      "8000/8000 [==============================] - 8s 957us/step - loss: 0.6579 - acc: 0.7839\n",
      "Test loss: 0.24255748879909517\n",
      "Test accuracy: 0.9255\n"
     ]
    }
   ],
   "source": [
    "X_train = X_train.reshape(X_train.shape[0], 28, 28 , 1).astype('float32')\n",
    "y_train_cat = tf.keras.utils.to_categorical(y_train).astype('int32')\n",
    "X_test = X_test.reshape(X_test.shape[0], 28, 28 , 1).astype('float32')\n",
    "y_test_cat = tf.keras.utils.to_categorical(y_test).astype('int32')\n",
    "\n",
    "\n",
    "model = createModel('relu')\n",
    "model.fit(X_train, y_train_cat, epochs = 1)\n",
    "score = model.evaluate(X_test, y_test_cat, verbose=0)\n",
    "print('Test loss:', score[0])\n",
    "print('Test accuracy:', score[1])"
   ]
  },
  {
   "cell_type": "code",
   "execution_count": 35,
   "metadata": {},
   "outputs": [
    {
     "name": "stdout",
     "output_type": "stream",
     "text": [
      "Epoch 1/1\n",
      "8000/8000 [==============================] - 8s 1ms/step - loss: 1.2245 - acc: 0.7709\n",
      "Test loss: 0.48220395612716677\n",
      "Test accuracy: 0.9335\n"
     ]
    }
   ],
   "source": [
    "model = createModel('sigmoid')\n",
    "model.fit(X_train, y_train_cat, epochs = 1)\n",
    "score = model.evaluate(X_test, y_test_cat, verbose=0)\n",
    "print('Test loss:', score[0])\n",
    "print('Test accuracy:', score[1])"
   ]
  },
  {
   "cell_type": "code",
   "execution_count": 36,
   "metadata": {},
   "outputs": [
    {
     "name": "stdout",
     "output_type": "stream",
     "text": [
      "Epoch 1/1\n",
      "8000/8000 [==============================] - 8s 1ms/step - loss: 0.4127 - acc: 0.8795\n",
      "Test loss: 0.14572346502542496\n",
      "Test accuracy: 0.958\n"
     ]
    }
   ],
   "source": [
    "model = createModel('tanh')\n",
    "model.fit(X_train, y_train_cat, epochs = 1)\n",
    "score = model.evaluate(X_test, y_test_cat, verbose=0)\n",
    "print('Test loss:', score[0])\n",
    "print('Test accuracy:', score[1])"
   ]
  }
 ],
 "metadata": {
  "kernelspec": {
   "display_name": "Python 3",
   "language": "python",
   "name": "python3"
  },
  "language_info": {
   "codemirror_mode": {
    "name": "ipython",
    "version": 3
   },
   "file_extension": ".py",
   "mimetype": "text/x-python",
   "name": "python",
   "nbconvert_exporter": "python",
   "pygments_lexer": "ipython3",
   "version": "3.6.5"
  }
 },
 "nbformat": 4,
 "nbformat_minor": 2
}
