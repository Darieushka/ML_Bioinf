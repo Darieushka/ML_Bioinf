{
 "cells": [
  {
   "cell_type": "code",
   "execution_count": 11,
   "metadata": {},
   "outputs": [],
   "source": [
    "import tensorflow as tf\n",
    "from tensorflow import keras\n",
    "import numpy as np\n",
    "import matplotlib.pyplot as plt\n"
   ]
  },
  {
   "cell_type": "code",
   "execution_count": 4,
   "metadata": {},
   "outputs": [],
   "source": [
    "from PIL import Image\n",
    "\n",
    "def arr(png_in):\n",
    "    img = Image.open(png_in).convert('L')\n",
    "    arr = np.array(img)\n",
    "    return arr\n",
    "\n",
    "s = []\n",
    "for s1 in ['A', 'B', 'C', 'D', 'E', 'F', 'G', 'H', 'I', 'J']:\n",
    "    s2 = ! ls ~/1_1_5_ML_Bioinf/data/notMNIST_small/$s1\n",
    "    for s3 in s2:\n",
    "        s.append('/Users/dashabalashova/1_1_5_ML_Bioinf/data/notMNIST_small/'+s1+'/'+s3)\n",
    "        \n",
    "images=[]\n",
    "X = []\n",
    "y = []\n",
    "for png_in in s:\n",
    "    try:\n",
    "        X.append(arr(png_in))\n",
    "        y.append(png_in[58:59])\n",
    "    except OSError:\n",
    "        pass\n",
    "    \n",
    "X = np.array(X)\n",
    "y = np.array(y)"
   ]
  },
  {
   "cell_type": "code",
   "execution_count": 5,
   "metadata": {},
   "outputs": [],
   "source": [
    "from sklearn.model_selection import train_test_split\n",
    "\n",
    "X_train, X_test, y_train, y_test = train_test_split(X, y, test_size=0.2, random_state=1)\n",
    "\n",
    "alph = ['A', 'B', 'C', 'D', 'E', 'F', 'G', 'H', 'I', 'J']\n",
    "dict_alph = {}\n",
    "for n in range(0,len(alph)):\n",
    "    dict_alph[alph[n]] = n\n",
    "    \n"
   ]
  },
  {
   "cell_type": "code",
   "execution_count": 6,
   "metadata": {},
   "outputs": [],
   "source": [
    "def show1():\n",
    "    plt.figure()\n",
    "    plt.imshow(X_train[6])\n",
    "    plt.colorbar()\n",
    "    plt.grid(False)\n",
    "    plt.show()\n",
    "\n",
    "def show25():\n",
    "    plt.figure(figsize=(10,10))\n",
    "    for i in range(25):\n",
    "        plt.subplot(5,5,i+1)\n",
    "        plt.xticks([])\n",
    "        plt.yticks([])\n",
    "        plt.grid(False)\n",
    "        plt.imshow(X_train[i], cmap=plt.cm.binary)\n",
    "        plt.xlabel(y_train[i])"
   ]
  },
  {
   "cell_type": "code",
   "execution_count": 19,
   "metadata": {},
   "outputs": [],
   "source": [
    "from keras.models import Sequential\n",
    "from keras.layers import Dense, Conv2D, MaxPooling2D, Dropout, Flatten\n",
    "  \n",
    "def createModel(act):\n",
    "    \n",
    "    model = Sequential()\n",
    "    \n",
    "    model.add(Conv2D(8, (3, 3), activation='sigmoid', input_shape=(28, 28, 1)))\n",
    "    model.add(Conv2D(8, (3, 3), activation='tanh'))\n",
    "    model.add(Conv2D(8, (3, 3), activation='relu'))\n",
    "    \n",
    "    model.add(Flatten())\n",
    "    \n",
    "    model.add(Dense(64, activation=act))\n",
    "    model.add(Dense(64, activation=act))\n",
    "    \n",
    "    model.add(Dense(10, activation='softmax'))\n",
    "    model.compile(loss='categorical_crossentropy', optimizer='adam', metrics=['accuracy'])\n",
    "  \n",
    "    return model\n"
   ]
  },
  {
   "cell_type": "code",
   "execution_count": 20,
   "metadata": {},
   "outputs": [
    {
     "name": "stdout",
     "output_type": "stream",
     "text": [
      "Epoch 1/1\n",
      "14979/14979 [==============================] - 12s 791us/step - loss: 0.5362 - acc: 0.8429\n",
      "Test loss: 0.3028200590906874\n",
      "Test accuracy: 0.9100133511348465\n"
     ]
    }
   ],
   "source": [
    "X_train = X_train.reshape(X_train.shape[0], 28, 28 , 1).astype('float32')\n",
    "y_train_num = np.array([dict_alph[a] for a in list(y_train)])\n",
    "y_train_cat = tf.keras.utils.to_categorical(y_train_num).astype('int32')\n",
    "X_test = X_test.reshape(X_test.shape[0], 28, 28 , 1).astype('float32')\n",
    "y_test_num = np.array([dict_alph[a] for a in list(y_test)])\n",
    "y_test_cat = tf.keras.utils.to_categorical(y_test_num).astype('int32')\n",
    "\n",
    "model = createModel('relu')\n",
    "model.fit(X_train, y_train_cat, epochs = 1)\n",
    "score = model.evaluate(X_test, y_test_cat, verbose=0)\n",
    "print('Test loss:', score[0])\n",
    "print('Test accuracy:', score[1])"
   ]
  },
  {
   "cell_type": "code",
   "execution_count": 18,
   "metadata": {},
   "outputs": [],
   "source": [
    "def aug(X_train, X_test, y_train, y_test):\n",
    "    X_train = X_train.reshape(-1,28,28,1)\n",
    "    X_test = X_test.reshape(-1,28,28,1)\n",
    "\n",
    "    from keras.preprocessing.image import ImageDataGenerator\n",
    "    X_train2 = np.array(X_train, copy=True) \n",
    "    y_train2 = np.array(y_train_num, copy=True) \n",
    "\n",
    "    datagen = ImageDataGenerator(\n",
    "        featurewise_center=True,\n",
    "        featurewise_std_normalization=True,\n",
    "        rotation_range=20,\n",
    "        )\n",
    "\n",
    "    #datagen.fit(X_train)\n",
    "\n",
    "    # Concatenating the old data with the augmented data\n",
    "    result_X  = np.concatenate((X_train, X_train2), axis=0)\n",
    "    result_y  = np.concatenate((y_train_num, y_train2), axis=0)\n",
    "    \n",
    "    return result_X, result_y\n",
    "\n",
    "#result_X, result_y = aug(X_train, X_test, y_train, y_test)\n",
    "    # # fits the model on batches with real-time data augmentation:\n",
    "    #history = model.fit_generator(datagen.flow(result_x, result_y, batch_size=35), epochs = 1)\n",
    "\n"
   ]
  }
 ],
 "metadata": {
  "kernelspec": {
   "display_name": "Python 3",
   "language": "python",
   "name": "python3"
  },
  "language_info": {
   "codemirror_mode": {
    "name": "ipython",
    "version": 3
   },
   "file_extension": ".py",
   "mimetype": "text/x-python",
   "name": "python",
   "nbconvert_exporter": "python",
   "pygments_lexer": "ipython3",
   "version": "3.6.5"
  }
 },
 "nbformat": 4,
 "nbformat_minor": 2
}
