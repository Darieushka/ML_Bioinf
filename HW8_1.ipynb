{
 "cells": [
  {
   "cell_type": "code",
   "execution_count": 53,
   "metadata": {},
   "outputs": [],
   "source": [
    "from scipy.stats import norm\n",
    "import numpy as np\n",
    "import pandas as pd\n",
    "from sklearn.model_selection import train_test_split\n",
    "from sklearn import metrics\n",
    "import matplotlib.pyplot as plt\n",
    "\n",
    "df = pd.read_csv('/Users/dashabalashova/python_projects/1_1_5_ML_Bioinf/data/spam.csv')\n",
    "\n",
    "\n",
    "train_df, validate_df = train_test_split(df, test_size=0.2, stratify=df.label)\n",
    "validate_df = validate_df.reset_index(drop=True)\n",
    "\n",
    "def Gaussian_naive_Bayes(train_df, validate_df):\n",
    "    v = [0, 0]\n",
    "    m = [0, 0]\n",
    "    for c in [0,1]:\n",
    "        v[c] = train_df[train_df['label']==c].var()\n",
    "        m[c] = train_df[train_df['label']==c].mean()  \n",
    "    \n",
    "    GNB = []\n",
    "    for i in range(0, validate_df.shape[0]):\n",
    "        p_classes = [0, 0]\n",
    "        for c in [0, 1]:\n",
    "            p = 1\n",
    "            for j in validate_df.columns.values[:-1]:\n",
    "                print(norm.pdf(validate_df.loc[i,j],m[c][j],v[c][j]**0.5)*v[c][j]**0.5)\n",
    "                p = p * norm.pdf(validate_df.loc[i,j],m[c][j],v[c][j]**0.5)*v[c][j]**0.5\n",
    "            p_classes[c] = p\n",
    "        GNB.append(p_classes[1]/(p_classes[0]+p_classes[1]))\n",
    "        print(p_classes[1]/(p_classes[0]+p_classes[1]))\n",
    "    return GNB\n",
    "            \n",
    "\n",
    "GNB = Gaussian_naive_Bayes(train_df, validate_df) "
   ]
  },
  {
   "cell_type": "code",
   "execution_count": 52,
   "metadata": {},
   "outputs": [
    {
     "data": {
      "image/png": "[encoded data removed]",
      "text/plain": [
       "<Figure size 432x288 with 1 Axes>"
      ]
     },
     "metadata": {
      "needs_background": "light"
     },
     "output_type": "display_data"
    }
   ],
   "source": [
    "scores = pd.DataFrame(GNB).fillna(0)\n",
    "fpr, tpr, thresholds = metrics.roc_curve(validate_df.label, scores)\n",
    "\n",
    "plt.plot(fpr, tpr)\n",
    "plt.show()"
   ]
  }
 ],
 "metadata": {
  "kernelspec": {
   "display_name": "Python 3",
   "language": "python",
   "name": "python3"
  },
  "language_info": {
   "codemirror_mode": {
    "name": "ipython",
    "version": 3
   },
   "file_extension": ".py",
   "mimetype": "text/x-python",
   "name": "python",
   "nbconvert_exporter": "python",
   "pygments_lexer": "ipython3",
   "version": "3.6.5"
  }
 },
 "nbformat": 4,
 "nbformat_minor": 2
}
