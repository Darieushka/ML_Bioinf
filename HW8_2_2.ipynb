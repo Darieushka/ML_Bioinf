{
 "cells": [
  {
   "cell_type": "code",
   "execution_count": 26,
   "metadata": {},
   "outputs": [],
   "source": [
    "from scipy.stats import norm\n",
    "import numpy as np\n",
    "import pandas as pd\n",
    "import re\n",
    "from collections import Counter\n",
    "import time\n",
    "import progressbar\n",
    "from sklearn.model_selection import train_test_split\n",
    "\n",
    "df = pd.read_csv('/Users/dashabalashova/python_projects/1_1_5_ML_Bioinf/data/smsspam.csv')\n",
    "df = df.head(500)\n",
    "train_df, validate_df = train_test_split(df, test_size=0.2, stratify=df.label)\n",
    "train_df = train_df.reset_index(drop=True)\n",
    "validate_df = validate_df.reset_index(drop=True)"
   ]
  },
  {
   "cell_type": "code",
   "execution_count": 27,
   "metadata": {},
   "outputs": [],
   "source": [
    "from nltk.stem import PorterStemmer\n",
    "from nltk.tokenize import sent_tokenize, word_tokenize\n",
    "\n",
    "ps = PorterStemmer()\n",
    "def stem_f(text2):\n",
    "    text_words = []\n",
    "    for w in text2.split():\n",
    "        text_words.append(ps.stem(w))\n",
    "    return Counter(text_words)\n",
    "    \n",
    "train_df['text2']=train_df.apply(lambda x: re.sub(r'[^\\w\\s]','',x.text).lower(), axis=1)\n",
    "train_df['cnt0'] = train_df.apply(lambda x: stem_f(x.text2), axis=1)\n",
    "\n",
    "validate_df['text2']=validate_df.apply(lambda x: re.sub(r'[^\\w\\s]','',x.text).lower(), axis=1)\n",
    "validate_df['cnt0'] = validate_df.apply(lambda x: stem_f(x.text2), axis=1)\n"
   ]
  },
  {
   "cell_type": "code",
   "execution_count": 32,
   "metadata": {},
   "outputs": [
    {
     "name": "stderr",
     "output_type": "stream",
     "text": [
      "- | #                                                 | 2 Elapsed Time: 0:00:00"
     ]
    },
    {
     "name": "stdout",
     "output_type": "stream",
     "text": [
      "1690\n"
     ]
    },
    {
     "name": "stderr",
     "output_type": "stream",
     "text": [
      "| |          #                                     | 3374 Elapsed Time: 0:00:18"
     ]
    }
   ],
   "source": [
    "all_words = Counter()\n",
    "for i in range(0,train_df.shape[0]):\n",
    "    all_words+=train_df.cnt0[i]\n",
    "\n",
    "words = all_words.keys()\n",
    "print(len(words))\n",
    "\n",
    "t=0\n",
    "n_gr = 3\n",
    "p_cl = []\n",
    "\n",
    "for cl in ['ham', 'spam']:\n",
    "    df_cl = train_df[train_df.label==str(cl)]\n",
    "    bar = progressbar.ProgressBar().start()\n",
    "    n_row = df_cl.shape[0]\n",
    "    p_xi={}\n",
    "    \n",
    "    for w in words:\n",
    "        bar.update(t)\n",
    "        t+=1\n",
    "        \n",
    "        p_xi[w] = [0]*n_gr    \n",
    "        for n in range(0,n_gr-1):\n",
    "            p_xi[w][n] = (sum(df_cl.apply(lambda x: x.cnt0[w]==n, axis=1).astype(int))+1)/(n_row+n_gr)\n",
    "        p_xi[w][n_gr-1] = (sum(df_cl.apply(lambda x: x.cnt0[w]>n_gr-2, axis=1).astype(int))+1)/(n_row+n_gr)\n",
    "\n",
    "    p_cl.append(p_xi)\n",
    "\n",
    "dict_spam = {0:'ham', 1:'spam'}\n",
    "\n",
    "def Multinomial_naive_Bayes(df):\n",
    "    MNB = []\n",
    "    n_cl = [sum(df.label=='ham'), sum(df.label=='spam')]\n",
    "    for i in range(0, df.shape[0]):\n",
    "        counter_i = df.at[i,'cnt0']\n",
    "        p_classes = [0, 0]\n",
    "        for c in [0, 1]:\n",
    "            p = 1\n",
    "            for word in counter_i.keys():\n",
    "                freq = counter_i[word]\n",
    "                try:\n",
    "                    p = p * p_cl[c][word][min(freq, n_gr-1)]\n",
    "                except:\n",
    "                    #print(word)\n",
    "                    p = p * 1/(n_cl[c]+n_gr)\n",
    "            p_classes[c] = p\n",
    "        MNB.append(p_classes[1]/(p_classes[0]+p_classes[1]))\n",
    "    return MNB\n",
    "\n",
    "MNB = Multinomial_naive_Bayes(validate_df)"
   ]
  },
  {
   "cell_type": "code",
   "execution_count": 34,
   "metadata": {},
   "outputs": [
    {
     "data": {
      "image/png": "[encoded data removed]",
      "text/plain": [
       "<Figure size 432x288 with 1 Axes>"
      ]
     },
     "metadata": {
      "needs_background": "light"
     },
     "output_type": "display_data"
    }
   ],
   "source": [
    "from sklearn import metrics\n",
    "import matplotlib.pyplot as plt\n",
    "\n",
    "scores = pd.DataFrame(MNB).fillna(0)\n",
    "y = validate_df.apply(lambda x: x.label=='spam', axis=1).astype(int)\n",
    "fpr, tpr, thresholds = metrics.roc_curve(y, scores)\n",
    "\n",
    "plt.plot(fpr, tpr)\n",
    "plt.show()"
   ]
  }
 ],
 "metadata": {
  "kernelspec": {
   "display_name": "Python 3",
   "language": "python",
   "name": "python3"
  },
  "language_info": {
   "codemirror_mode": {
    "name": "ipython",
    "version": 3
   },
   "file_extension": ".py",
   "mimetype": "text/x-python",
   "name": "python",
   "nbconvert_exporter": "python",
   "pygments_lexer": "ipython3",
   "version": "3.6.5"
  }
 },
 "nbformat": 4,
 "nbformat_minor": 2
}
