{
 "cells": [
  {
   "cell_type": "code",
   "execution_count": 104,
   "metadata": {},
   "outputs": [
    {
     "name": "stdout",
     "output_type": "stream",
     "text": [
      "Min route length: 29470\n"
     ]
    }
   ],
   "source": [
    "import pandas as pd\n",
    "import numpy as np\n",
    "\n",
    "df = pd.read_csv('tsp.csv', header=None, names = ['n', 'x', 'y'])\n",
    "\n",
    "\n",
    "def dist(df, perm):\n",
    "    m = df.shape[0]\n",
    "    d=0\n",
    "    for n in range(1, m):\n",
    "        u = df.iloc[perm[n]]-df.iloc[perm[n-1]]\n",
    "        d += abs(u.x)+abs(u.y)\n",
    "    return d\n",
    "\n",
    "\n",
    "d_list = []\n",
    "for n in range(0, 10000):\n",
    "    perm = np.random.permutation(df.shape[0])\n",
    "    d_list.append([perm, dist(df, perm)])\n",
    "\n",
    "best_perm = min(d_list, key = lambda t: t[1])\n",
    "print('Min route length: %s' %best_perm[1])"
   ]
  },
  {
   "cell_type": "code",
   "execution_count": 106,
   "metadata": {},
   "outputs": [
    {
     "data": {
      "image/png": "[encoded data removed]",
      "text/plain": [
       "<Figure size 432x288 with 1 Axes>"
      ]
     },
     "metadata": {
      "needs_background": "light"
     },
     "output_type": "display_data"
    }
   ],
   "source": [
    "import matplotlib.pyplot as plt\n",
    "\n",
    "df2 = df\n",
    "df2['perm'] = best_perm[0]*2\n",
    "\n",
    "df2 = df2.set_index(df['perm']).drop(columns = ['perm'])\n",
    "\n",
    "for k in range(1, 103, 2):\n",
    "    df2.loc[k] = np.array([0,df2.loc[k+1,'x'],df2.loc[k-1,'y']])\n",
    "\n",
    "df2 = df2.sort_index()\n",
    "\n",
    "plt.plot(df2.x, df2.y)\n",
    "plt.show()"
   ]
  }
 ],
 "metadata": {
  "kernelspec": {
   "display_name": "Python 3",
   "language": "python",
   "name": "python3"
  },
  "language_info": {
   "codemirror_mode": {
    "name": "ipython",
    "version": 3
   },
   "file_extension": ".py",
   "mimetype": "text/x-python",
   "name": "python",
   "nbconvert_exporter": "python",
   "pygments_lexer": "ipython3",
   "version": "3.6.5"
  }
 },
 "nbformat": 4,
 "nbformat_minor": 2
}
