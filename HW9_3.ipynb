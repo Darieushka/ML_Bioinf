{
 "cells": [
  {
   "cell_type": "code",
   "execution_count": 82,
   "metadata": {},
   "outputs": [
    {
     "name": "stderr",
     "output_type": "stream",
     "text": [
      "100%|██████████| 100/100 [04:33<00:00,  2.45s/it]\n"
     ]
    },
    {
     "name": "stdout",
     "output_type": "stream",
     "text": [
      "Min route length: 24670\n"
     ]
    },
    {
     "data": {
      "image/png": "[encoded data removed]",
      "text/plain": [
       "<Figure size 432x288 with 1 Axes>"
      ]
     },
     "metadata": {
      "needs_background": "light"
     },
     "output_type": "display_data"
    }
   ],
   "source": [
    "import pandas as pd\n",
    "import numpy as np\n",
    "import math\n",
    "from tqdm import tqdm\n",
    "from numpy.random import choice\n",
    "\n",
    "\n",
    "df = pd.read_csv('tsp.csv', header=None, names = ['n', 'x', 'y'])\n",
    "\n",
    "\n",
    "def dist(df, perm):\n",
    "    m = df.shape[0]\n",
    "    d=0\n",
    "    for n in range(1, m):\n",
    "        u = df.iloc[perm[n]]-df.iloc[perm[n-1]]\n",
    "        d += abs(u.x)+abs(u.y)\n",
    "    return d\n",
    "\n",
    "\n",
    "def step(df, perm):\n",
    "    d_list = []\n",
    "    d_prob = []\n",
    "    d_start = dist(df, perm)\n",
    "    for m in range(0,df.shape[0]-1):\n",
    "        a = perm.copy()\n",
    "        a[m] = perm[m+1]\n",
    "        a[m+1] = perm[m]\n",
    "        d_list.append(a)\n",
    "        d_prob.append(math.exp(min((d_start - dist(df, a)),700)))\n",
    "    d_prob = [x/sum(d_prob) for x in d_prob]\n",
    "    ch = choice(range(0,51), 1, p=d_prob)\n",
    "    perm2 = d_list[ch[0]]\n",
    "    return d_list[ch[0]]\n",
    "     \n",
    "    \n",
    "d_list = []\n",
    "perm = np.random.permutation(df.shape[0])\n",
    "d_list.append([perm, dist(df, perm)])\n",
    "for i in tqdm(range(100)):\n",
    "    perm = step(df, perm)\n",
    "    d_list.append([perm, dist(df, perm)])\n",
    "    \n",
    "    \n",
    "best_perm = min(d_list, key = lambda t: t[1])\n",
    "print('Min route length: %s' %best_perm[1])\n",
    "\n",
    "df2 = df\n",
    "df2['perm'] = best_perm[0]*2\n",
    "\n",
    "df2 = df2.set_index(df['perm']).drop(columns = ['perm'])\n",
    "\n",
    "for k in range(1, 103, 2):\n",
    "    df2.loc[k] = np.array([0,df2.loc[k+1,'x'],df2.loc[k-1,'y']])\n",
    "\n",
    "df2 = df2.sort_index()\n",
    "\n",
    "plt.plot(df2.x, df2.y)\n",
    "plt.show()"
   ]
  }
 ],
 "metadata": {
  "kernelspec": {
   "display_name": "Python 3",
   "language": "python",
   "name": "python3"
  },
  "language_info": {
   "codemirror_mode": {
    "name": "ipython",
    "version": 3
   },
   "file_extension": ".py",
   "mimetype": "text/x-python",
   "name": "python",
   "nbconvert_exporter": "python",
   "pygments_lexer": "ipython3",
   "version": "3.6.5"
  }
 },
 "nbformat": 4,
 "nbformat_minor": 2
}
